{
 "cells": [
  {
   "cell_type": "markdown",
   "metadata": {},
   "source": [
    "# Customer Sentiment Analysis<br>\n",
    "Tran Thi Kim Phung<br>\n",
    "04 May 2025"
   ]
  },
  {
   "cell_type": "markdown",
   "metadata": {},
   "source": [
    "<p align=\"center\">\n",
    "<strong> Statement of authorship </strong><br>\n",
    "I have executed and prepared this project and document by myself <br>\n",
    "Signed: Phung Tran<br><br>\n",
    "</p>"
   ]
  },
  {
   "cell_type": "markdown",
   "metadata": {},
   "source": [
    "# 1. Background"
   ]
  },
  {
   "cell_type": "markdown",
   "metadata": {},
   "source": [
    "Amazon is the world's largest online retailer <br>\n",
    "The company wants to know how satisfied users are after purchasing products on Amazon's website. The report provides detailed steps for the analyses to measure emotional attitude of customers and offers areas of improvements for sellers "
   ]
  },
  {
   "cell_type": "markdown",
   "metadata": {},
   "source": [
    "# 2. Objective"
   ]
  },
  {
   "cell_type": "markdown",
   "metadata": {},
   "source": [
    "This analysis aims to provide the overall emotional attitude of customers and feedback summary for sellers to improve their shop. The context is set up as where customer feedback plays a crucial role in shaping customer trust, influencing purchasing decisions, and guiding sellers in refining their products and services."
   ]
  },
  {
   "cell_type": "markdown",
   "metadata": {},
   "source": [
    "The analysis will follow the four major sections:<br>\n",
    "1. <br>\n",
    "2.\n"
   ]
  },
  {
   "cell_type": "markdown",
   "metadata": {},
   "source": [
    "# 3. Methods"
   ]
  },
  {
   "cell_type": "markdown",
   "metadata": {},
   "source": [
    "## Import Library"
   ]
  },
  {
   "cell_type": "code",
   "execution_count": 1,
   "metadata": {},
   "outputs": [],
   "source": [
    "from datasets import load_dataset \n",
    "import pandas as pd \n",
    "import numpy as np \n",
    "import matplotlib.pyplot as plt \n",
    "import seaborn as sns\n",
    "from textblob import TextBlob\n",
    "from transformers import pipeline"
   ]
  },
  {
   "cell_type": "code",
   "execution_count": 2,
   "metadata": {},
   "outputs": [],
   "source": [
    "pd.set_option('display.max_columns', None)\n",
    "pd.set_option('display.max_rows', None)\n",
    "pd.set_option('display.max_colwidth', None)"
   ]
  },
  {
   "cell_type": "markdown",
   "metadata": {},
   "source": [
    "## Import dataset"
   ]
  },
  {
   "cell_type": "code",
   "execution_count": 3,
   "metadata": {},
   "outputs": [],
   "source": [
    "meta_beauty = load_dataset('McAuley-Lab/Amazon-Reviews-2023', 'raw_meta_All_Beauty')\n",
    "reviews_beauty = load_dataset('McAuley-Lab/Amazon-Reviews-2023', 'raw_review_All_Beauty')"
   ]
  },
  {
   "cell_type": "markdown",
   "metadata": {},
   "source": [
    "## Data cleaning & first exploration"
   ]
  },
  {
   "cell_type": "markdown",
   "metadata": {},
   "source": [
    "### Meta beauty"
   ]
  },
  {
   "cell_type": "code",
   "execution_count": 5,
   "metadata": {},
   "outputs": [
    {
     "data": {
      "text/html": [
       "<div>\n",
       "<style scoped>\n",
       "    .dataframe tbody tr th:only-of-type {\n",
       "        vertical-align: middle;\n",
       "    }\n",
       "\n",
       "    .dataframe tbody tr th {\n",
       "        vertical-align: top;\n",
       "    }\n",
       "\n",
       "    .dataframe thead th {\n",
       "        text-align: right;\n",
       "    }\n",
       "</style>\n",
       "<table border=\"1\" class=\"dataframe\">\n",
       "  <thead>\n",
       "    <tr style=\"text-align: right;\">\n",
       "      <th></th>\n",
       "      <th>title</th>\n",
       "      <th>average_rating</th>\n",
       "      <th>rating_number</th>\n",
       "      <th>features</th>\n",
       "      <th>description</th>\n",
       "      <th>price</th>\n",
       "      <th>store</th>\n",
       "      <th>parent_asin</th>\n",
       "    </tr>\n",
       "  </thead>\n",
       "  <tbody>\n",
       "    <tr>\n",
       "      <th>0</th>\n",
       "      <td>Howard LC0008 Leather Conditioner, 8-Ounce (4-Pack)</td>\n",
       "      <td>4.8</td>\n",
       "      <td>10</td>\n",
       "      <td>[]</td>\n",
       "      <td>[]</td>\n",
       "      <td>None</td>\n",
       "      <td>Howard Products</td>\n",
       "      <td>B01CUPMQZE</td>\n",
       "    </tr>\n",
       "    <tr>\n",
       "      <th>1</th>\n",
       "      <td>Yes to Tomatoes Detoxifying Charcoal Cleanser (Pack of 2) with Charcoal Powder, Tomato Fruit Extract, and Gingko Biloba Leaf Extract, 5 fl. oz.</td>\n",
       "      <td>4.5</td>\n",
       "      <td>3</td>\n",
       "      <td>[]</td>\n",
       "      <td>[]</td>\n",
       "      <td>None</td>\n",
       "      <td>Yes To</td>\n",
       "      <td>B076WQZGPM</td>\n",
       "    </tr>\n",
       "  </tbody>\n",
       "</table>\n",
       "</div>"
      ],
      "text/plain": [
       "                                                                                                                                             title  \\\n",
       "0                                                                                              Howard LC0008 Leather Conditioner, 8-Ounce (4-Pack)   \n",
       "1  Yes to Tomatoes Detoxifying Charcoal Cleanser (Pack of 2) with Charcoal Powder, Tomato Fruit Extract, and Gingko Biloba Leaf Extract, 5 fl. oz.   \n",
       "\n",
       "   average_rating  rating_number features description price            store  \\\n",
       "0             4.8             10       []          []  None  Howard Products   \n",
       "1             4.5              3       []          []  None           Yes To   \n",
       "\n",
       "  parent_asin  \n",
       "0  B01CUPMQZE  \n",
       "1  B076WQZGPM  "
      ]
     },
     "execution_count": 5,
     "metadata": {},
     "output_type": "execute_result"
    }
   ],
   "source": [
    "meta_cols = ['title', 'average_rating', 'rating_number', 'features', 'description','price', 'store', 'parent_asin']\n",
    "meta = meta_beauty['full'].to_pandas()\n",
    "meta = meta[meta_cols]\n",
    "meta.head(2)"
   ]
  },
  {
   "cell_type": "code",
   "execution_count": 6,
   "metadata": {},
   "outputs": [
    {
     "name": "stdout",
     "output_type": "stream",
     "text": [
      "<class 'pandas.core.frame.DataFrame'>\n",
      "RangeIndex: 112590 entries, 0 to 112589\n",
      "Data columns (total 8 columns):\n",
      " #   Column          Non-Null Count   Dtype  \n",
      "---  ------          --------------   -----  \n",
      " 0   title           112590 non-null  object \n",
      " 1   average_rating  112590 non-null  float64\n",
      " 2   rating_number   112590 non-null  int64  \n",
      " 3   features        112590 non-null  object \n",
      " 4   description     112590 non-null  object \n",
      " 5   price           112590 non-null  object \n",
      " 6   store           101259 non-null  object \n",
      " 7   parent_asin     112590 non-null  object \n",
      "dtypes: float64(1), int64(1), object(6)\n",
      "memory usage: 6.9+ MB\n"
     ]
    }
   ],
   "source": [
    "meta.info()"
   ]
  },
  {
   "cell_type": "code",
   "execution_count": 7,
   "metadata": {},
   "outputs": [
    {
     "data": {
      "text/plain": [
       "title                 0\n",
       "average_rating        0\n",
       "rating_number         0\n",
       "features              0\n",
       "description           0\n",
       "price                 0\n",
       "store             11331\n",
       "parent_asin           0\n",
       "dtype: int64"
      ]
     },
     "execution_count": 7,
     "metadata": {},
     "output_type": "execute_result"
    }
   ],
   "source": [
    "meta.isnull().sum()"
   ]
  },
  {
   "cell_type": "code",
   "execution_count": 8,
   "metadata": {},
   "outputs": [],
   "source": [
    "meta.dropna(inplace=True)"
   ]
  },
  {
   "cell_type": "code",
   "execution_count": 9,
   "metadata": {},
   "outputs": [
    {
     "data": {
      "text/plain": [
       "np.int64(0)"
      ]
     },
     "execution_count": 9,
     "metadata": {},
     "output_type": "execute_result"
    }
   ],
   "source": [
    "data_temp = meta.copy()\n",
    "\n",
    "for col in data_temp.columns:\n",
    "    if data_temp[col].apply(lambda x: isinstance(x, (list, np.ndarray, dict))).any():\n",
    "        data_temp[col] = data_temp[col].astype(str)\n",
    "    \n",
    "data_temp.duplicated().sum()"
   ]
  },
  {
   "cell_type": "code",
   "execution_count": 36,
   "metadata": {},
   "outputs": [
    {
     "data": {
      "text/plain": [
       "<Axes: xlabel='average_rating', ylabel='Count'>"
      ]
     },
     "execution_count": 36,
     "metadata": {},
     "output_type": "execute_result"
    },
    {
     "data": {
      "image/png": "[encoded data removed]",
      "text/plain": [
       "<Figure size 640x480 with 1 Axes>"
      ]
     },
     "metadata": {},
     "output_type": "display_data"
    }
   ],
   "source": [
    "sns.histplot(meta['average_rating'], kde=False, bins=10)"
   ]
  },
  {
   "cell_type": "code",
   "execution_count": 35,
   "metadata": {},
   "outputs": [
    {
     "data": {
      "text/plain": [
       "(0.0, 100.0)"
      ]
     },
     "execution_count": 35,
     "metadata": {},
     "output_type": "execute_result"
    },
    {
     "data": {
      "image/png": "[encoded data removed]",
      "text/plain": [
       "<Figure size 640x480 with 1 Axes>"
      ]
     },
     "metadata": {},
     "output_type": "display_data"
    }
   ],
   "source": [
    "limit = 100\n",
    "filtered_data = meta[meta['rating_number'] <= limit]\n",
    "sns.histplot(filtered_data['rating_number'])\n",
    "plt.xlim(0,limit)"
   ]
  },
  {
   "cell_type": "markdown",
   "metadata": {},
   "source": [
    "### Review beauty"
   ]
  },
  {
   "cell_type": "code",
   "execution_count": 4,
   "metadata": {},
   "outputs": [
    {
     "data": {
      "text/html": [
       "<div>\n",
       "<style scoped>\n",
       "    .dataframe tbody tr th:only-of-type {\n",
       "        vertical-align: middle;\n",
       "    }\n",
       "\n",
       "    .dataframe tbody tr th {\n",
       "        vertical-align: top;\n",
       "    }\n",
       "\n",
       "    .dataframe thead th {\n",
       "        text-align: right;\n",
       "    }\n",
       "</style>\n",
       "<table border=\"1\" class=\"dataframe\">\n",
       "  <thead>\n",
       "    <tr style=\"text-align: right;\">\n",
       "      <th></th>\n",
       "      <th>rating</th>\n",
       "      <th>title</th>\n",
       "      <th>text</th>\n",
       "      <th>asin</th>\n",
       "      <th>parent_asin</th>\n",
       "      <th>user_id</th>\n",
       "      <th>timestamp</th>\n",
       "      <th>helpful_vote</th>\n",
       "      <th>verified_purchase</th>\n",
       "    </tr>\n",
       "  </thead>\n",
       "  <tbody>\n",
       "    <tr>\n",
       "      <th>0</th>\n",
       "      <td>5.0</td>\n",
       "      <td>Such a lovely scent but not overpowering.</td>\n",
       "      <td>This spray is really nice. It smells really good, goes on really fine, and does the trick. I will say it feels like you need a lot of it though to get the texture I want. I have a lot of hair, medium thickness. I am comparing to other brands with yucky chemicals so I'm gonna stick with this. Try it!</td>\n",
       "      <td>B00YQ6X8EO</td>\n",
       "      <td>B00YQ6X8EO</td>\n",
       "      <td>AGKHLEW2SOWHNMFQIJGBECAF7INQ</td>\n",
       "      <td>1588687728923</td>\n",
       "      <td>0</td>\n",
       "      <td>True</td>\n",
       "    </tr>\n",
       "    <tr>\n",
       "      <th>1</th>\n",
       "      <td>4.0</td>\n",
       "      <td>Works great but smells a little weird.</td>\n",
       "      <td>This product does what I need it to do, I just wish it was odorless or had a soft coconut smell. Having my head smell like an orange coffee is offputting. (granted, I did know the smell was described but I was hoping it would be light)</td>\n",
       "      <td>B081TJ8YS3</td>\n",
       "      <td>B081TJ8YS3</td>\n",
       "      <td>AGKHLEW2SOWHNMFQIJGBECAF7INQ</td>\n",
       "      <td>1588615855070</td>\n",
       "      <td>1</td>\n",
       "      <td>True</td>\n",
       "    </tr>\n",
       "  </tbody>\n",
       "</table>\n",
       "</div>"
      ],
      "text/plain": [
       "   rating                                      title  \\\n",
       "0     5.0  Such a lovely scent but not overpowering.   \n",
       "1     4.0     Works great but smells a little weird.   \n",
       "\n",
       "                                                                                                                                                                                                                                                                                                           text  \\\n",
       "0  This spray is really nice. It smells really good, goes on really fine, and does the trick. I will say it feels like you need a lot of it though to get the texture I want. I have a lot of hair, medium thickness. I am comparing to other brands with yucky chemicals so I'm gonna stick with this. Try it!   \n",
       "1                                                                   This product does what I need it to do, I just wish it was odorless or had a soft coconut smell. Having my head smell like an orange coffee is offputting. (granted, I did know the smell was described but I was hoping it would be light)   \n",
       "\n",
       "         asin parent_asin                       user_id      timestamp  \\\n",
       "0  B00YQ6X8EO  B00YQ6X8EO  AGKHLEW2SOWHNMFQIJGBECAF7INQ  1588687728923   \n",
       "1  B081TJ8YS3  B081TJ8YS3  AGKHLEW2SOWHNMFQIJGBECAF7INQ  1588615855070   \n",
       "\n",
       "   helpful_vote  verified_purchase  \n",
       "0             0               True  \n",
       "1             1               True  "
      ]
     },
     "execution_count": 4,
     "metadata": {},
     "output_type": "execute_result"
    }
   ],
   "source": [
    "reviews_col = ['rating', 'title', 'text', 'asin', 'parent_asin', 'user_id', 'timestamp', 'helpful_vote', 'verified_purchase']\n",
    "reviews = reviews_beauty['full'].to_pandas()\n",
    "reviews = reviews[reviews_col]\n",
    "reviews.head(2)"
   ]
  },
  {
   "cell_type": "code",
   "execution_count": 5,
   "metadata": {},
   "outputs": [
    {
     "name": "stdout",
     "output_type": "stream",
     "text": [
      "<class 'pandas.core.frame.DataFrame'>\n",
      "RangeIndex: 701528 entries, 0 to 701527\n",
      "Data columns (total 9 columns):\n",
      " #   Column             Non-Null Count   Dtype  \n",
      "---  ------             --------------   -----  \n",
      " 0   rating             701528 non-null  float64\n",
      " 1   title              701528 non-null  object \n",
      " 2   text               701528 non-null  object \n",
      " 3   asin               701528 non-null  object \n",
      " 4   parent_asin        701528 non-null  object \n",
      " 5   user_id            701528 non-null  object \n",
      " 6   timestamp          701528 non-null  int64  \n",
      " 7   helpful_vote       701528 non-null  int64  \n",
      " 8   verified_purchase  701528 non-null  bool   \n",
      "dtypes: bool(1), float64(1), int64(2), object(5)\n",
      "memory usage: 43.5+ MB\n"
     ]
    }
   ],
   "source": [
    "reviews.info()"
   ]
  },
  {
   "cell_type": "code",
   "execution_count": 12,
   "metadata": {},
   "outputs": [
    {
     "data": {
      "text/plain": [
       "rating               0\n",
       "title                0\n",
       "text                 0\n",
       "asin                 0\n",
       "parent_asin          0\n",
       "user_id              0\n",
       "timestamp            0\n",
       "helpful_vote         0\n",
       "verified_purchase    0\n",
       "dtype: int64"
      ]
     },
     "execution_count": 12,
     "metadata": {},
     "output_type": "execute_result"
    }
   ],
   "source": [
    "reviews.isnull().sum()"
   ]
  },
  {
   "cell_type": "code",
   "execution_count": 13,
   "metadata": {},
   "outputs": [
    {
     "data": {
      "text/plain": [
       "np.int64(7275)"
      ]
     },
     "execution_count": 13,
     "metadata": {},
     "output_type": "execute_result"
    }
   ],
   "source": [
    "reviews.duplicated().sum()"
   ]
  },
  {
   "cell_type": "code",
   "execution_count": 6,
   "metadata": {},
   "outputs": [],
   "source": [
    "reviews.drop_duplicates(inplace = True)"
   ]
  },
  {
   "cell_type": "code",
   "execution_count": 37,
   "metadata": {},
   "outputs": [
    {
     "data": {
      "text/plain": [
       "<Axes: xlabel='rating', ylabel='Count'>"
      ]
     },
     "execution_count": 37,
     "metadata": {},
     "output_type": "execute_result"
    },
    {
     "data": {
      "image/png": "[encoded data removed]",
      "text/plain": [
       "<Figure size 640x480 with 1 Axes>"
      ]
     },
     "metadata": {},
     "output_type": "display_data"
    }
   ],
   "source": [
    "sns.histplot(reviews['rating'], kde=False, bins=10)"
   ]
  },
  {
   "cell_type": "code",
   "execution_count": 7,
   "metadata": {},
   "outputs": [
    {
     "name": "stdout",
     "output_type": "stream",
     "text": [
      "PyTorch version: 2.6.0\n",
      "MPS built in: True\n",
      "MPS available: False\n",
      "MPS is built: True\n"
     ]
    }
   ],
   "source": [
    "import torch\n",
    "\n",
    "print(f\"PyTorch version: {torch.__version__}\")\n",
    "\n",
    "# Kiểm tra MPS có được biên dịch vào PyTorch không\n",
    "print(f\"MPS built in: {hasattr(torch.backends, 'mps')}\")\n",
    "\n",
    "# Kiểm tra MPS có khả dụng không (nếu được biên dịch)\n",
    "if hasattr(torch.backends, 'mps'):\n",
    "    print(f\"MPS available: {torch.backends.mps.is_available()}\")\n",
    "    print(f\"MPS is built: {torch.backends.mps.is_built()}\")"
   ]
  },
  {
   "cell_type": "code",
   "execution_count": null,
   "metadata": {},
   "outputs": [
    {
     "name": "stderr",
     "output_type": "stream",
     "text": [
      "Device set to use cpu\n"
     ]
    }
   ],
   "source": [
    "sentiment_analysis = pipeline(\"sentiment-analysis\", model='cardiffnlp/twitter-xlm-roberta-base-sentiment', device=-1, max_length=256, truncation=True)"
   ]
  },
  {
   "cell_type": "code",
   "execution_count": 20,
   "metadata": {},
   "outputs": [],
   "source": [
    "def analyze_sentiment_transformers(text):\n",
    "        if not isinstance(text, str) or pd.isna(text) or text.strip() == '':\n",
    "            return None\n",
    "        try:\n",
    "            result = sentiment_analysis(text)\n",
    "            return result[0]['label']\n",
    "        except Exception as e:\n",
    "            print(f\"Error analyzing text: {e}\")\n",
    "            return None"
   ]
  },
  {
   "cell_type": "markdown",
   "metadata": {},
   "source": [
    "### test with 1000 values"
   ]
  },
  {
   "cell_type": "code",
   "execution_count": 21,
   "metadata": {},
   "outputs": [],
   "source": [
    "reviews_1000 =  reviews.head(1000)"
   ]
  },
  {
   "cell_type": "code",
   "execution_count": 16,
   "metadata": {},
   "outputs": [
    {
     "name": "stderr",
     "output_type": "stream",
     "text": [
      "Truncation was not explicitly activated but `max_length` is provided a specific value, please use `truncation=True` to explicitly truncate examples to max length. Defaulting to 'longest_first' truncation strategy. If you encode pairs of sequences (GLUE-style) with the tokenizer you can select this strategy more precisely by providing a specific strategy to `truncation`.\n"
     ]
    }
   ],
   "source": [
    "reviews_1000['title_sentiment'] = reviews_1000['title'].apply(analyze_sentiment_transformers)"
   ]
  },
  {
   "cell_type": "code",
   "execution_count": 22,
   "metadata": {},
   "outputs": [
    {
     "name": "stderr",
     "output_type": "stream",
     "text": [
      "Truncation was not explicitly activated but `max_length` is provided a specific value, please use `truncation=True` to explicitly truncate examples to max length. Defaulting to 'longest_first' truncation strategy. If you encode pairs of sequences (GLUE-style) with the tokenizer you can select this strategy more precisely by providing a specific strategy to `truncation`.\n"
     ]
    }
   ],
   "source": [
    "reviews_1000 = reviews_1000.copy()\n",
    "reviews_1000['text_sentiment'] = reviews_1000['text'].apply(analyze_sentiment_transformers)"
   ]
  },
  {
   "cell_type": "code",
   "execution_count": 23,
   "metadata": {},
   "outputs": [
    {
     "data": {
      "text/html": [
       "<div>\n",
       "<style scoped>\n",
       "    .dataframe tbody tr th:only-of-type {\n",
       "        vertical-align: middle;\n",
       "    }\n",
       "\n",
       "    .dataframe tbody tr th {\n",
       "        vertical-align: top;\n",
       "    }\n",
       "\n",
       "    .dataframe thead th {\n",
       "        text-align: right;\n",
       "    }\n",
       "</style>\n",
       "<table border=\"1\" class=\"dataframe\">\n",
       "  <thead>\n",
       "    <tr style=\"text-align: right;\">\n",
       "      <th></th>\n",
       "      <th>rating</th>\n",
       "      <th>title</th>\n",
       "      <th>text</th>\n",
       "      <th>asin</th>\n",
       "      <th>parent_asin</th>\n",
       "      <th>user_id</th>\n",
       "      <th>timestamp</th>\n",
       "      <th>helpful_vote</th>\n",
       "      <th>verified_purchase</th>\n",
       "      <th>text_sentiment</th>\n",
       "    </tr>\n",
       "  </thead>\n",
       "  <tbody>\n",
       "    <tr>\n",
       "      <th>0</th>\n",
       "      <td>5.0</td>\n",
       "      <td>Such a lovely scent but not overpowering.</td>\n",
       "      <td>This spray is really nice. It smells really good, goes on really fine, and does the trick. I will say it feels like you need a lot of it though to get the texture I want. I have a lot of hair, medium thickness. I am comparing to other brands with yucky chemicals so I'm gonna stick with this. Try it!</td>\n",
       "      <td>B00YQ6X8EO</td>\n",
       "      <td>B00YQ6X8EO</td>\n",
       "      <td>AGKHLEW2SOWHNMFQIJGBECAF7INQ</td>\n",
       "      <td>1588687728923</td>\n",
       "      <td>0</td>\n",
       "      <td>True</td>\n",
       "      <td>positive</td>\n",
       "    </tr>\n",
       "    <tr>\n",
       "      <th>1</th>\n",
       "      <td>4.0</td>\n",
       "      <td>Works great but smells a little weird.</td>\n",
       "      <td>This product does what I need it to do, I just wish it was odorless or had a soft coconut smell. Having my head smell like an orange coffee is offputting. (granted, I did know the smell was described but I was hoping it would be light)</td>\n",
       "      <td>B081TJ8YS3</td>\n",
       "      <td>B081TJ8YS3</td>\n",
       "      <td>AGKHLEW2SOWHNMFQIJGBECAF7INQ</td>\n",
       "      <td>1588615855070</td>\n",
       "      <td>1</td>\n",
       "      <td>True</td>\n",
       "      <td>negative</td>\n",
       "    </tr>\n",
       "    <tr>\n",
       "      <th>2</th>\n",
       "      <td>5.0</td>\n",
       "      <td>Yes!</td>\n",
       "      <td>Smells good, feels great!</td>\n",
       "      <td>B07PNNCSP9</td>\n",
       "      <td>B097R46CSY</td>\n",
       "      <td>AE74DYR3QUGVPZJ3P7RFWBGIX7XQ</td>\n",
       "      <td>1589665266052</td>\n",
       "      <td>2</td>\n",
       "      <td>True</td>\n",
       "      <td>positive</td>\n",
       "    </tr>\n",
       "    <tr>\n",
       "      <th>3</th>\n",
       "      <td>1.0</td>\n",
       "      <td>Synthetic feeling</td>\n",
       "      <td>Felt synthetic</td>\n",
       "      <td>B09JS339BZ</td>\n",
       "      <td>B09JS339BZ</td>\n",
       "      <td>AFQLNQNQYFWQZPJQZS6V3NZU4QBQ</td>\n",
       "      <td>1643393630220</td>\n",
       "      <td>0</td>\n",
       "      <td>True</td>\n",
       "      <td>negative</td>\n",
       "    </tr>\n",
       "    <tr>\n",
       "      <th>4</th>\n",
       "      <td>5.0</td>\n",
       "      <td>A+</td>\n",
       "      <td>Love it</td>\n",
       "      <td>B08BZ63GMJ</td>\n",
       "      <td>B08BZ63GMJ</td>\n",
       "      <td>AFQLNQNQYFWQZPJQZS6V3NZU4QBQ</td>\n",
       "      <td>1609322563534</td>\n",
       "      <td>0</td>\n",
       "      <td>True</td>\n",
       "      <td>positive</td>\n",
       "    </tr>\n",
       "    <tr>\n",
       "      <th>5</th>\n",
       "      <td>4.0</td>\n",
       "      <td>Pretty Color</td>\n",
       "      <td>The polish was quiet thick and did not apply smoothly. I let dry overnight before adding a second coat since it was so thick.</td>\n",
       "      <td>B00R8DXL44</td>\n",
       "      <td>B00R8DXL44</td>\n",
       "      <td>AGMJ3EMDVL6OWBJF7CA5RGJLXN5A</td>\n",
       "      <td>1598567408138</td>\n",
       "      <td>0</td>\n",
       "      <td>True</td>\n",
       "      <td>negative</td>\n",
       "    </tr>\n",
       "    <tr>\n",
       "      <th>6</th>\n",
       "      <td>5.0</td>\n",
       "      <td>Handy</td>\n",
       "      <td>Great for many tasks.  I purchased these for makeup removal.  No makeup on your washcloths.  Disposable, so great for travel.  Soft.  Absorbant.</td>\n",
       "      <td>B099DRHW5V</td>\n",
       "      <td>B099DRHW5V</td>\n",
       "      <td>AHREXOGQPZDA6354MHH4ETSF3MCQ</td>\n",
       "      <td>1631885519443</td>\n",
       "      <td>0</td>\n",
       "      <td>True</td>\n",
       "      <td>positive</td>\n",
       "    </tr>\n",
       "    <tr>\n",
       "      <th>7</th>\n",
       "      <td>3.0</td>\n",
       "      <td>Meh</td>\n",
       "      <td>These were lightweight and soft but much too small for my liking. I would have preferred two of these together to make one loc. For that reason I will not be repurchasing.</td>\n",
       "      <td>B088SZDGXG</td>\n",
       "      <td>B08BBQ29N5</td>\n",
       "      <td>AEYORY2AVPMCPDV57CE337YU5LXA</td>\n",
       "      <td>1634275259292</td>\n",
       "      <td>0</td>\n",
       "      <td>True</td>\n",
       "      <td>negative</td>\n",
       "    </tr>\n",
       "    <tr>\n",
       "      <th>8</th>\n",
       "      <td>5.0</td>\n",
       "      <td>Great for at home use and so easy to use!</td>\n",
       "      <td>This is perfect for my between salon visits. I have been using this now twice a week for over a month and I absolutely love it! My skin looks amazing and feels super smooth and silky. This is also super easy to use (just follow instructions). I can see already that I will begin expanding the time between visits which will definitely help me save money in the long run. Highly recommend!</td>\n",
       "      <td>B08P2DZB4X</td>\n",
       "      <td>B08P2DZB4X</td>\n",
       "      <td>AFSKPY37N3C43SOI5IEXEK5JSIYA</td>\n",
       "      <td>1627391044559</td>\n",
       "      <td>0</td>\n",
       "      <td>False</td>\n",
       "      <td>positive</td>\n",
       "    </tr>\n",
       "    <tr>\n",
       "      <th>9</th>\n",
       "      <td>5.0</td>\n",
       "      <td>Nice shampoo for the money</td>\n",
       "      <td>I get Keratin treatments at the salon at least 3-4 times a year (would do it more often if I could afford it). I am always in the market to use products that can help extend my salon visits. This Keratin shampoo is really nice. It is sulfate free (which is the first thing I look for ) and makes my hair feel silky smooth and soft. I highly recommend for anyone who wants to improve the texture and appearance of your hair. I really like the fragrance, too.</td>\n",
       "      <td>B086QY6T7N</td>\n",
       "      <td>B086QY6T7N</td>\n",
       "      <td>AFSKPY37N3C43SOI5IEXEK5JSIYA</td>\n",
       "      <td>1626614511145</td>\n",
       "      <td>0</td>\n",
       "      <td>False</td>\n",
       "      <td>positive</td>\n",
       "    </tr>\n",
       "    <tr>\n",
       "      <th>10</th>\n",
       "      <td>3.0</td>\n",
       "      <td>Not what I thought I would be getting</td>\n",
       "      <td>I was very disappointed when I got this facial scrub. I had assumed it was like other scrubs I use but it wasn't. This is a powder which you need to mix with water to make a paste before you put it on your face. I have a tendency to like to use scrubs in the shower with me, so this extra step doesn't really work for me. As far as the scrubbing factor goes, it's ok. I didn't feel a real smoothing or softening of my skin after use the way I have with others. The biggest plus is the fragrance (i love the smell of oranges). I won't be repurchasing.</td>\n",
       "      <td>B08DHTJ25J</td>\n",
       "      <td>B08DHTJ25J</td>\n",
       "      <td>AFSKPY37N3C43SOI5IEXEK5JSIYA</td>\n",
       "      <td>1626211245370</td>\n",
       "      <td>0</td>\n",
       "      <td>False</td>\n",
       "      <td>negative</td>\n",
       "    </tr>\n",
       "    <tr>\n",
       "      <th>11</th>\n",
       "      <td>5.0</td>\n",
       "      <td>A little goes a long way!</td>\n",
       "      <td>This is a really nice moisturizing lotion. It goes on lightly and is readily absorbed into my skin. My skin feels amazingly softer and smoother and allows for a nice base for my makeup to be applied over. You only need a small pea sized amount to cover your entire face and neck. Highly recommend for all skin types, ages and for women as well as men.</td>\n",
       "      <td>B07RBSLNFR</td>\n",
       "      <td>B07RBSLNFR</td>\n",
       "      <td>AFSKPY37N3C43SOI5IEXEK5JSIYA</td>\n",
       "      <td>1621184430697</td>\n",
       "      <td>0</td>\n",
       "      <td>False</td>\n",
       "      <td>positive</td>\n",
       "    </tr>\n",
       "    <tr>\n",
       "      <th>12</th>\n",
       "      <td>3.0</td>\n",
       "      <td>Just ok</td>\n",
       "      <td>I try to get Keratin treatments every 3 months, but honestly it has been getting costly. So, when I saw this I was excited to try it. I found it difficult to use and almost impossible to get to saturate the back of my hair and straight iron it the way they do in the salon. Front and sides were ok, but I couldn't maneuver the back to get it straight. Then I saw the ingredients after the first time and saw it contained formaldehyde and that was the last time I used the actual treatment. I did, however, use the shampoo and conditioner (and I still am). I wish they sold the S&amp;C separate because I really did like it and I am always in the market for a good hair wash which won't strip my hair between treatments. I will resume my regular treatments at my salon.</td>\n",
       "      <td>B07SLFWZKN</td>\n",
       "      <td>B07SLFWZKN</td>\n",
       "      <td>AFSKPY37N3C43SOI5IEXEK5JSIYA</td>\n",
       "      <td>1619737501209</td>\n",
       "      <td>0</td>\n",
       "      <td>False</td>\n",
       "      <td>negative</td>\n",
       "    </tr>\n",
       "    <tr>\n",
       "      <th>13</th>\n",
       "      <td>5.0</td>\n",
       "      <td>Good quality hair brush!</td>\n",
       "      <td>Really nice small brush. Made well, nice wood made with boar bristle, my son absolutely loves this. It brushes his hair well and keeps him looking his best. This compact size makes it nice to keep in the center console of his car or to take on vacation with him. Highly recommend!</td>\n",
       "      <td>B08JTNQFZY</td>\n",
       "      <td>B08JTNQFZY</td>\n",
       "      <td>AFSKPY37N3C43SOI5IEXEK5JSIYA</td>\n",
       "      <td>1617904219785</td>\n",
       "      <td>0</td>\n",
       "      <td>False</td>\n",
       "      <td>positive</td>\n",
       "    </tr>\n",
       "    <tr>\n",
       "      <th>14</th>\n",
       "      <td>5.0</td>\n",
       "      <td>Great refreshing skin care routine!</td>\n",
       "      <td>I had never tried anything for my skin consisting of pomegranate, so I was anxious to try this. It actually is an entire skin care regimine containing a cleanser, a toner, a facial cream, an eye cream and overall moisurizers. I actually was quite surprised how well this worked from start to finish. It was nice having an entire skin care routine in one package (instead of me working with various separate products. Fragrance is light and smells almost apple-like (but very light). I particularly like the cleanser and the toner. It also comes in a beautiful gift box so this would make a wonderful gift for someone. I bought another for my mother-in-law and plan to give it to her when we visit next month. Highly recommend!</td>\n",
       "      <td>B08GLG6W8T</td>\n",
       "      <td>B08GLG6W8T</td>\n",
       "      <td>AFSKPY37N3C43SOI5IEXEK5JSIYA</td>\n",
       "      <td>1613319236253</td>\n",
       "      <td>0</td>\n",
       "      <td>False</td>\n",
       "      <td>positive</td>\n",
       "    </tr>\n",
       "    <tr>\n",
       "      <th>15</th>\n",
       "      <td>3.0</td>\n",
       "      <td>Didn't do much and difficult to place and maintain on your face</td>\n",
       "      <td>When I saw this, I was thrilled to be able to try it. I have suffered from bags and dark circles under my eyes for years now. I have been 'using' this for almost three weeks and I am not happy with it. First, it's almost impossible for me to keep it in place under my eyes. They come wet out of the packet and I was unsure what side was supposed to be placed on my skin. They do not stay in place and I found them falling off easily. Of course, maybe it was me or my skin, so please don't just rely on my review (read others). I will not be reordering.</td>\n",
       "      <td>B08M3C6LVS</td>\n",
       "      <td>B08M3C6LVS</td>\n",
       "      <td>AFSKPY37N3C43SOI5IEXEK5JSIYA</td>\n",
       "      <td>1607339460872</td>\n",
       "      <td>0</td>\n",
       "      <td>False</td>\n",
       "      <td>negative</td>\n",
       "    </tr>\n",
       "    <tr>\n",
       "      <th>16</th>\n",
       "      <td>5.0</td>\n",
       "      <td>Quality hair iron, works perfectly to straighten my hair!</td>\n",
       "      <td>This is a great hair straightener. Heats up quickly and evenly, makes it easy to take the curl out of my naturally wavy hair. It fits easily in my hand and maneuvers around the front and back of my head easily. Does not heat up my countertop (keeps the heat on the iron). I love this pink, too, it matches my decor perfectly. I highly recommend this Bellezza styler.</td>\n",
       "      <td>B07GHPCT6T</td>\n",
       "      <td>B07GHPCT6T</td>\n",
       "      <td>AFSKPY37N3C43SOI5IEXEK5JSIYA</td>\n",
       "      <td>1598212476613</td>\n",
       "      <td>0</td>\n",
       "      <td>False</td>\n",
       "      <td>positive</td>\n",
       "    </tr>\n",
       "    <tr>\n",
       "      <th>17</th>\n",
       "      <td>5.0</td>\n",
       "      <td>Great all natural ear swabs!</td>\n",
       "      <td>I really like these ear swabs. First they come in a large, handy box and are easy to store (will last a long time). Second, they are all organic and good for the environment. Third, they are strong and don't fall apart very easily. I highly recommend these over Q-Tips (which I have used for years).</td>\n",
       "      <td>B07KG1TWP5</td>\n",
       "      <td>B07KG1TWP5</td>\n",
       "      <td>AFSKPY37N3C43SOI5IEXEK5JSIYA</td>\n",
       "      <td>1596473351088</td>\n",
       "      <td>0</td>\n",
       "      <td>False</td>\n",
       "      <td>positive</td>\n",
       "    </tr>\n",
       "    <tr>\n",
       "      <th>18</th>\n",
       "      <td>5.0</td>\n",
       "      <td>Wonderful overnight cream!</td>\n",
       "      <td>To be honest, I rarely have used an overnight cream. Typically, my skin care routine is the same morning and night (wash, apply hyalauronic serum, and some kind of moistutrizer). So, when I saw this Iryasa cream I wanted to try it. Easy to apply, you can immediately feel the moisture starting to work. I do apply this about 30 minutes before I actually go to sleep to allow it time to be absorbed (before putting my face on my pillow) as it is a thicker type of cream and needs time. My skin in the morning feels better than ever. Soft and supple, I definitely feel a difference after using this for over 2 weeks now. I highly recommend this cream for women and men.</td>\n",
       "      <td>B07W397QG4</td>\n",
       "      <td>B07W397QG4</td>\n",
       "      <td>AFSKPY37N3C43SOI5IEXEK5JSIYA</td>\n",
       "      <td>1593352422858</td>\n",
       "      <td>1</td>\n",
       "      <td>False</td>\n",
       "      <td>neutral</td>\n",
       "    </tr>\n",
       "    <tr>\n",
       "      <th>19</th>\n",
       "      <td>5.0</td>\n",
       "      <td>This really works!</td>\n",
       "      <td>At first when I saw this, I wasn't sure what this. I looked at the reviews (which were mostly positive) and thought I would give it a try. My skepticism was quickly diminished after trying this for just a few days. I typically shower every morning and I have Vitamin C and Retinol that I apply to my face. So, when I got this I put it in the freezer and followed the instructions. So, instead of just applying the serums to my face, I started using this roller along with the serums. After less than a week I noticed much less puffiness around my eyes (and I am prone to that area to have bags and puffiness). I also noticed my skin looking noticeably better overall. I think applying this roller to my skin allows the pores to absorb the serums faster and deeper. I will continue to use this going forward. I am really impressed with the results!</td>\n",
       "      <td>B07GDQPG12</td>\n",
       "      <td>B07GDQPG12</td>\n",
       "      <td>AFSKPY37N3C43SOI5IEXEK5JSIYA</td>\n",
       "      <td>1547589843451</td>\n",
       "      <td>0</td>\n",
       "      <td>False</td>\n",
       "      <td>neutral</td>\n",
       "    </tr>\n",
       "  </tbody>\n",
       "</table>\n",
       "</div>"
      ],
      "text/plain": [
       "    rating                                                            title  \\\n",
       "0      5.0                        Such a lovely scent but not overpowering.   \n",
       "1      4.0                           Works great but smells a little weird.   \n",
       "2      5.0                                                             Yes!   \n",
       "3      1.0                                                Synthetic feeling   \n",
       "4      5.0                                                               A+   \n",
       "5      4.0                                                     Pretty Color   \n",
       "6      5.0                                                            Handy   \n",
       "7      3.0                                                              Meh   \n",
       "8      5.0                        Great for at home use and so easy to use!   \n",
       "9      5.0                                       Nice shampoo for the money   \n",
       "10     3.0                            Not what I thought I would be getting   \n",
       "11     5.0                                        A little goes a long way!   \n",
       "12     3.0                                                          Just ok   \n",
       "13     5.0                                         Good quality hair brush!   \n",
       "14     5.0                              Great refreshing skin care routine!   \n",
       "15     3.0  Didn't do much and difficult to place and maintain on your face   \n",
       "16     5.0        Quality hair iron, works perfectly to straighten my hair!   \n",
       "17     5.0                                     Great all natural ear swabs!   \n",
       "18     5.0                                       Wonderful overnight cream!   \n",
       "19     5.0                                               This really works!   \n",
       "\n",
       "                                                                                                                                                                                                                                                                                                                                                                                                                                                                                                                                                                                                                                                                                                                                                                                                                                                                               text  \\\n",
       "0                                                                                                                                                                                                                                                                                                                                                                                                                                                                                                                                                                      This spray is really nice. It smells really good, goes on really fine, and does the trick. I will say it feels like you need a lot of it though to get the texture I want. I have a lot of hair, medium thickness. I am comparing to other brands with yucky chemicals so I'm gonna stick with this. Try it!   \n",
       "1                                                                                                                                                                                                                                                                                                                                                                                                                                                                                                                                                                                                                                       This product does what I need it to do, I just wish it was odorless or had a soft coconut smell. Having my head smell like an orange coffee is offputting. (granted, I did know the smell was described but I was hoping it would be light)   \n",
       "2                                                                                                                                                                                                                                                                                                                                                                                                                                                                                                                                                                                                                                                                                                                                                                                                                                                         Smells good, feels great!   \n",
       "3                                                                                                                                                                                                                                                                                                                                                                                                                                                                                                                                                                                                                                                                                                                                                                                                                                                                    Felt synthetic   \n",
       "4                                                                                                                                                                                                                                                                                                                                                                                                                                                                                                                                                                                                                                                                                                                                                                                                                                                                           Love it   \n",
       "5                                                                                                                                                                                                                                                                                                                                                                                                                                                                                                                                                                                                                                                                                                                                                     The polish was quiet thick and did not apply smoothly. I let dry overnight before adding a second coat since it was so thick.   \n",
       "6                                                                                                                                                                                                                                                                                                                                                                                                                                                                                                                                                                                                                                                                                                                                  Great for many tasks.  I purchased these for makeup removal.  No makeup on your washcloths.  Disposable, so great for travel.  Soft.  Absorbant.   \n",
       "7                                                                                                                                                                                                                                                                                                                                                                                                                                                                                                                                                                                                                                                                                                       These were lightweight and soft but much too small for my liking. I would have preferred two of these together to make one loc. For that reason I will not be repurchasing.   \n",
       "8                                                                                                                                                                                                                                                                                                                                                                                                                                                                              This is perfect for my between salon visits. I have been using this now twice a week for over a month and I absolutely love it! My skin looks amazing and feels super smooth and silky. This is also super easy to use (just follow instructions). I can see already that I will begin expanding the time between visits which will definitely help me save money in the long run. Highly recommend!   \n",
       "9                                                                                                                                                                                                                                                                                                                                                                                                         I get Keratin treatments at the salon at least 3-4 times a year (would do it more often if I could afford it). I am always in the market to use products that can help extend my salon visits. This Keratin shampoo is really nice. It is sulfate free (which is the first thing I look for ) and makes my hair feel silky smooth and soft. I highly recommend for anyone who wants to improve the texture and appearance of your hair. I really like the fragrance, too.   \n",
       "10                                                                                                                                                                                                                                                                                                           I was very disappointed when I got this facial scrub. I had assumed it was like other scrubs I use but it wasn't. This is a powder which you need to mix with water to make a paste before you put it on your face. I have a tendency to like to use scrubs in the shower with me, so this extra step doesn't really work for me. As far as the scrubbing factor goes, it's ok. I didn't feel a real smoothing or softening of my skin after use the way I have with others. The biggest plus is the fragrance (i love the smell of oranges). I won't be repurchasing.   \n",
       "11                                                                                                                                                                                                                                                                                                                                                                                                                                                                                                                  This is a really nice moisturizing lotion. It goes on lightly and is readily absorbed into my skin. My skin feels amazingly softer and smoother and allows for a nice base for my makeup to be applied over. You only need a small pea sized amount to cover your entire face and neck. Highly recommend for all skin types, ages and for women as well as men.   \n",
       "12                                                                                     I try to get Keratin treatments every 3 months, but honestly it has been getting costly. So, when I saw this I was excited to try it. I found it difficult to use and almost impossible to get to saturate the back of my hair and straight iron it the way they do in the salon. Front and sides were ok, but I couldn't maneuver the back to get it straight. Then I saw the ingredients after the first time and saw it contained formaldehyde and that was the last time I used the actual treatment. I did, however, use the shampoo and conditioner (and I still am). I wish they sold the S&C separate because I really did like it and I am always in the market for a good hair wash which won't strip my hair between treatments. I will resume my regular treatments at my salon.   \n",
       "13                                                                                                                                                                                                                                                                                                                                                                                                                                                                                                                                                                                         Really nice small brush. Made well, nice wood made with boar bristle, my son absolutely loves this. It brushes his hair well and keeps him looking his best. This compact size makes it nice to keep in the center console of his car or to take on vacation with him. Highly recommend!   \n",
       "14                                                                                                                           I had never tried anything for my skin consisting of pomegranate, so I was anxious to try this. It actually is an entire skin care regimine containing a cleanser, a toner, a facial cream, an eye cream and overall moisurizers. I actually was quite surprised how well this worked from start to finish. It was nice having an entire skin care routine in one package (instead of me working with various separate products. Fragrance is light and smells almost apple-like (but very light). I particularly like the cleanser and the toner. It also comes in a beautiful gift box so this would make a wonderful gift for someone. I bought another for my mother-in-law and plan to give it to her when we visit next month. Highly recommend!   \n",
       "15                                                                                                                                                                                                                                                                                                         When I saw this, I was thrilled to be able to try it. I have suffered from bags and dark circles under my eyes for years now. I have been 'using' this for almost three weeks and I am not happy with it. First, it's almost impossible for me to keep it in place under my eyes. They come wet out of the packet and I was unsure what side was supposed to be placed on my skin. They do not stay in place and I found them falling off easily. Of course, maybe it was me or my skin, so please don't just rely on my review (read others). I will not be reordering.   \n",
       "16                                                                                                                                                                                                                                                                                                                                                                                                                                                                                                   This is a great hair straightener. Heats up quickly and evenly, makes it easy to take the curl out of my naturally wavy hair. It fits easily in my hand and maneuvers around the front and back of my head easily. Does not heat up my countertop (keeps the heat on the iron). I love this pink, too, it matches my decor perfectly. I highly recommend this Bellezza styler.   \n",
       "17                                                                                                                                                                                                                                                                                                                                                                                                                                                                                                                                                                      I really like these ear swabs. First they come in a large, handy box and are easy to store (will last a long time). Second, they are all organic and good for the environment. Third, they are strong and don't fall apart very easily. I highly recommend these over Q-Tips (which I have used for years).   \n",
       "18                                                                                                                                                                                      To be honest, I rarely have used an overnight cream. Typically, my skin care routine is the same morning and night (wash, apply hyalauronic serum, and some kind of moistutrizer). So, when I saw this Iryasa cream I wanted to try it. Easy to apply, you can immediately feel the moisture starting to work. I do apply this about 30 minutes before I actually go to sleep to allow it time to be absorbed (before putting my face on my pillow) as it is a thicker type of cream and needs time. My skin in the morning feels better than ever. Soft and supple, I definitely feel a difference after using this for over 2 weeks now. I highly recommend this cream for women and men.   \n",
       "19  At first when I saw this, I wasn't sure what this. I looked at the reviews (which were mostly positive) and thought I would give it a try. My skepticism was quickly diminished after trying this for just a few days. I typically shower every morning and I have Vitamin C and Retinol that I apply to my face. So, when I got this I put it in the freezer and followed the instructions. So, instead of just applying the serums to my face, I started using this roller along with the serums. After less than a week I noticed much less puffiness around my eyes (and I am prone to that area to have bags and puffiness). I also noticed my skin looking noticeably better overall. I think applying this roller to my skin allows the pores to absorb the serums faster and deeper. I will continue to use this going forward. I am really impressed with the results!   \n",
       "\n",
       "          asin parent_asin                       user_id      timestamp  \\\n",
       "0   B00YQ6X8EO  B00YQ6X8EO  AGKHLEW2SOWHNMFQIJGBECAF7INQ  1588687728923   \n",
       "1   B081TJ8YS3  B081TJ8YS3  AGKHLEW2SOWHNMFQIJGBECAF7INQ  1588615855070   \n",
       "2   B07PNNCSP9  B097R46CSY  AE74DYR3QUGVPZJ3P7RFWBGIX7XQ  1589665266052   \n",
       "3   B09JS339BZ  B09JS339BZ  AFQLNQNQYFWQZPJQZS6V3NZU4QBQ  1643393630220   \n",
       "4   B08BZ63GMJ  B08BZ63GMJ  AFQLNQNQYFWQZPJQZS6V3NZU4QBQ  1609322563534   \n",
       "5   B00R8DXL44  B00R8DXL44  AGMJ3EMDVL6OWBJF7CA5RGJLXN5A  1598567408138   \n",
       "6   B099DRHW5V  B099DRHW5V  AHREXOGQPZDA6354MHH4ETSF3MCQ  1631885519443   \n",
       "7   B088SZDGXG  B08BBQ29N5  AEYORY2AVPMCPDV57CE337YU5LXA  1634275259292   \n",
       "8   B08P2DZB4X  B08P2DZB4X  AFSKPY37N3C43SOI5IEXEK5JSIYA  1627391044559   \n",
       "9   B086QY6T7N  B086QY6T7N  AFSKPY37N3C43SOI5IEXEK5JSIYA  1626614511145   \n",
       "10  B08DHTJ25J  B08DHTJ25J  AFSKPY37N3C43SOI5IEXEK5JSIYA  1626211245370   \n",
       "11  B07RBSLNFR  B07RBSLNFR  AFSKPY37N3C43SOI5IEXEK5JSIYA  1621184430697   \n",
       "12  B07SLFWZKN  B07SLFWZKN  AFSKPY37N3C43SOI5IEXEK5JSIYA  1619737501209   \n",
       "13  B08JTNQFZY  B08JTNQFZY  AFSKPY37N3C43SOI5IEXEK5JSIYA  1617904219785   \n",
       "14  B08GLG6W8T  B08GLG6W8T  AFSKPY37N3C43SOI5IEXEK5JSIYA  1613319236253   \n",
       "15  B08M3C6LVS  B08M3C6LVS  AFSKPY37N3C43SOI5IEXEK5JSIYA  1607339460872   \n",
       "16  B07GHPCT6T  B07GHPCT6T  AFSKPY37N3C43SOI5IEXEK5JSIYA  1598212476613   \n",
       "17  B07KG1TWP5  B07KG1TWP5  AFSKPY37N3C43SOI5IEXEK5JSIYA  1596473351088   \n",
       "18  B07W397QG4  B07W397QG4  AFSKPY37N3C43SOI5IEXEK5JSIYA  1593352422858   \n",
       "19  B07GDQPG12  B07GDQPG12  AFSKPY37N3C43SOI5IEXEK5JSIYA  1547589843451   \n",
       "\n",
       "    helpful_vote  verified_purchase text_sentiment  \n",
       "0              0               True       positive  \n",
       "1              1               True       negative  \n",
       "2              2               True       positive  \n",
       "3              0               True       negative  \n",
       "4              0               True       positive  \n",
       "5              0               True       negative  \n",
       "6              0               True       positive  \n",
       "7              0               True       negative  \n",
       "8              0              False       positive  \n",
       "9              0              False       positive  \n",
       "10             0              False       negative  \n",
       "11             0              False       positive  \n",
       "12             0              False       negative  \n",
       "13             0              False       positive  \n",
       "14             0              False       positive  \n",
       "15             0              False       negative  \n",
       "16             0              False       positive  \n",
       "17             0              False       positive  \n",
       "18             1              False        neutral  \n",
       "19             0              False        neutral  "
      ]
     },
     "execution_count": 23,
     "metadata": {},
     "output_type": "execute_result"
    }
   ],
   "source": [
    "reviews_1000.head(20)"
   ]
  },
  {
   "cell_type": "code",
   "execution_count": null,
   "metadata": {},
   "outputs": [],
   "source": [
    "# define numerical and categorical columns"
   ]
  },
  {
   "cell_type": "code",
   "execution_count": null,
   "metadata": {},
   "outputs": [],
   "source": [
    "# numberical: distribution, boxplot: rating, rating_number, len(title, details)"
   ]
  },
  {
   "cell_type": "code",
   "execution_count": null,
   "metadata": {},
   "outputs": [],
   "source": [
    "# categorical: # unique values of categories"
   ]
  },
  {
   "cell_type": "code",
   "execution_count": null,
   "metadata": {},
   "outputs": [],
   "source": [
    "# Rating thấp thường complain về gì?\n",
    "# Rating cao thường khen là gì?"
   ]
  },
  {
   "cell_type": "code",
   "execution_count": null,
   "metadata": {},
   "outputs": [],
   "source": [
    "# đánh giá cảm xúc comments\n",
    "# đánh giá customer review "
   ]
  },
  {
   "cell_type": "markdown",
   "metadata": {},
   "source": [
    "# 4. Key Findings"
   ]
  },
  {
   "cell_type": "markdown",
   "metadata": {},
   "source": [
    "# 5. Conclusions"
   ]
  }
 ],
 "metadata": {
  "kernelspec": {
   "display_name": "nlp",
   "language": "python",
   "name": "python3"
  },
  "language_info": {
   "codemirror_mode": {
    "name": "ipython",
    "version": 3
   },
   "file_extension": ".py",
   "mimetype": "text/x-python",
   "name": "python",
   "nbconvert_exporter": "python",
   "pygments_lexer": "ipython3",
   "version": "3.11.11"
  }
 },
 "nbformat": 4,
 "nbformat_minor": 2
}
