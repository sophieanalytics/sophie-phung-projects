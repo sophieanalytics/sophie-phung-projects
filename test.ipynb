{
 "cells": [
  {
   "cell_type": "code",
   "execution_count": 1,
   "metadata": {},
   "outputs": [],
   "source": [
    "import numpy as np"
   ]
  },
  {
   "cell_type": "code",
   "execution_count": 3,
   "metadata": {},
   "outputs": [],
   "source": [
    "sims = 1000000\n",
    "A = np.random.uniform(1,5,sims)\n",
    "B = np.random.uniform(2,6,sims)\n",
    "duration = A+B"
   ]
  },
  {
   "cell_type": "code",
   "execution_count": 4,
   "metadata": {},
   "outputs": [
    {
     "data": {
      "image/png": "[encoded data removed]",
      "text/plain": [
       "<Figure size 300x150 with 1 Axes>"
      ]
     },
     "metadata": {},
     "output_type": "display_data"
    },
    {
     "name": "stdout",
     "output_type": "stream",
     "text": [
      "0.124593\n"
     ]
    }
   ],
   "source": [
    "import matplotlib.pyplot as plt \n",
    "plt.figure(figsize=(3,1.5))\n",
    "plt.hist(duration, density = True)\n",
    "plt.axvline(9,color='r')\n",
    "plt.show()\n",
    "print((duration>9).sum()/sims)"
   ]
  },
  {
   "cell_type": "code",
   "execution_count": 2,
   "metadata": {},
   "outputs": [
    {
     "data": {
      "text/plain": [
       "(123.99575471698114, 8.442403218760728e-29, 1)"
      ]
     },
     "execution_count": 2,
     "metadata": {},
     "output_type": "execute_result"
    }
   ],
   "source": [
    "import scipy.stats as stats\n",
    "import numpy as np\n",
    "\n",
    "# Observed data\n",
    "observed = np.array([[3000, 3800], [11000, 10200]])\n",
    "\n",
    "# Row and column totals\n",
    "row_totals = observed.sum(axis=1)\n",
    "col_totals = observed.sum(axis=0)\n",
    "grand_total = observed.sum()\n",
    "\n",
    "# Expected frequencies\n",
    "expected = np.outer(row_totals, col_totals) / grand_total\n",
    "\n",
    "# Chi-squared test\n",
    "chi2_stat, p_value, dof, _ = stats.chi2_contingency(observed)\n",
    "\n",
    "chi2_stat, p_value, dof\n"
   ]
  },
  {
   "cell_type": "code",
   "execution_count": 1,
   "metadata": {},
   "outputs": [
    {
     "data": {
      "text/plain": [
       "(21.221867190679134, 2.21689647433153e-63)"
      ]
     },
     "execution_count": 1,
     "metadata": {},
     "output_type": "execute_result"
    }
   ],
   "source": [
    "import scipy.stats as stats\n",
    "\n",
    "# Define the data\n",
    "control_mean = 5  # Control group average time (days)\n",
    "control_std = 2  # Assumed standard deviation for the control group\n",
    "\n",
    "treatment_mean = 1.5  # Treatment group average time (days)\n",
    "treatment_std = 1.2  # Assumed standard deviation for the treatment group\n",
    "\n",
    "control_size = 200  # Number of participants in the control group\n",
    "treatment_size = 200  # Number of participants in the treatment group\n",
    "\n",
    "# Perform a two-sample t-test (Welch's t-test by default)\n",
    "t_stat, p_value = stats.ttest_ind_from_stats(\n",
    "    mean1=control_mean, std1=control_std, nobs1=control_size,\n",
    "    mean2=treatment_mean, std2=treatment_std, nobs2=treatment_size,\n",
    "    equal_var=False  # Assumes unequal variances\n",
    ")\n",
    "\n",
    "t_stat, p_value\n"
   ]
  },
  {
   "cell_type": "code",
   "execution_count": 2,
   "metadata": {},
   "outputs": [
    {
     "data": {
      "text/plain": [
       "194.90808460207387"
      ]
     },
     "execution_count": 2,
     "metadata": {},
     "output_type": "execute_result"
    }
   ],
   "source": [
    "from statsmodels.stats.power import NormalIndPower\n",
    "from statsmodels.stats.proportion import proportion_effectsize\n",
    "\n",
    "# Parameters\n",
    "p1 = 0.1      # Proportion in group 1 (control)\n",
    "p2 = 0.2  # Proportion in group 2 (treatment)\n",
    "alpha = 0.05    # Significance level\n",
    "power = 0.8     # Desired power\n",
    "\n",
    "# Calculate the effect size\n",
    "effect_size = proportion_effectsize(p1, p2)\n",
    "\n",
    "# Perform the power analysis for two independent proportions\n",
    "analysis = NormalIndPower()\n",
    "sample_size_per_group = analysis.solve_power(effect_size=effect_size, alpha=alpha, power=power, alternative='two-sided')\n",
    "\n",
    "sample_size_per_group"
   ]
  },
  {
   "cell_type": "code",
   "execution_count": null,
   "metadata": {},
   "outputs": [],
   "source": []
  }
 ],
 "metadata": {
  "kernelspec": {
   "display_name": "base",
   "language": "python",
   "name": "python3"
  },
  "language_info": {
   "codemirror_mode": {
    "name": "ipython",
    "version": 3
   },
   "file_extension": ".py",
   "mimetype": "text/x-python",
   "name": "python",
   "nbconvert_exporter": "python",
   "pygments_lexer": "ipython3",
   "version": "3.11.7"
  }
 },
 "nbformat": 4,
 "nbformat_minor": 2
}
